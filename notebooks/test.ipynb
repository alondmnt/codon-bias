{
 "cells": [
  {
   "cell_type": "code",
   "execution_count": 1,
   "metadata": {},
   "outputs": [],
   "source": [
    "import codonbias as cb"
   ]
  },
  {
   "cell_type": "code",
   "execution_count": 4,
   "metadata": {},
   "outputs": [
    {
     "name": "stderr",
     "output_type": "stream",
     "text": [
      "/opt/conda/lib/python3.10/site-packages/codonbias/stats.py:78: FutureWarning: The default dtype for empty Series will be 'object' instead of 'float64' in a future version. Specify a dtype explicitly to silence this warning.\n",
      "  return pd.Series(Counter(\n",
      "/opt/conda/lib/python3.10/site-packages/codonbias/stats.py:327: FutureWarning: The default dtype for empty Series will be 'object' instead of 'float64' in a future version. Specify a dtype explicitly to silence this warning.\n",
      "  return pd.Series(Counter(\n"
     ]
    }
   ],
   "source": [
    "enc = cb.scores.EffectiveNumberOfCodons()"
   ]
  },
  {
   "cell_type": "code",
   "execution_count": 6,
   "metadata": {},
   "outputs": [],
   "source": [
    "from Bio.SeqIO import parse"
   ]
  },
  {
   "cell_type": "code",
   "execution_count": 18,
   "metadata": {},
   "outputs": [],
   "source": [
    "fasta = parse('Escherichia_coli_str_k_12_substr_mg1655.ASM584v2.cds.all.fa', 'fasta')\n",
    "genes = [str(record.seq) for record in fasta]"
   ]
  },
  {
   "cell_type": "code",
   "execution_count": 19,
   "metadata": {},
   "outputs": [
    {
     "data": {
      "text/plain": [
       "array([52.61715029, 47.99120912, 50.08136827, ..., 43.45257418,\n",
       "       54.84866431, 49.47678456])"
      ]
     },
     "execution_count": 19,
     "metadata": {},
     "output_type": "execute_result"
    }
   ],
   "source": [
    "enc.get_score(genes)"
   ]
  },
  {
   "cell_type": "code",
   "execution_count": 19,
   "metadata": {},
   "outputs": [
    {
     "data": {
      "text/html": [
       "<div>\n",
       "<style scoped>\n",
       "    .dataframe tbody tr th:only-of-type {\n",
       "        vertical-align: middle;\n",
       "    }\n",
       "\n",
       "    .dataframe tbody tr th {\n",
       "        vertical-align: top;\n",
       "    }\n",
       "\n",
       "    .dataframe thead th {\n",
       "        text-align: right;\n",
       "    }\n",
       "</style>\n",
       "<table border=\"1\" class=\"dataframe\">\n",
       "  <thead>\n",
       "    <tr style=\"text-align: right;\">\n",
       "      <th></th>\n",
       "      <th></th>\n",
       "      <th>count</th>\n",
       "    </tr>\n",
       "    <tr>\n",
       "      <th>aa</th>\n",
       "      <th>codon</th>\n",
       "      <th></th>\n",
       "    </tr>\n",
       "  </thead>\n",
       "  <tbody>\n",
       "    <tr>\n",
       "      <th>I</th>\n",
       "      <th>ATA</th>\n",
       "      <td>1.0</td>\n",
       "    </tr>\n",
       "    <tr>\n",
       "      <th rowspan=\"2\" valign=\"top\">R</th>\n",
       "      <th>AGA</th>\n",
       "      <td>1.0</td>\n",
       "    </tr>\n",
       "    <tr>\n",
       "      <th>AGG</th>\n",
       "      <td>1.0</td>\n",
       "    </tr>\n",
       "  </tbody>\n",
       "</table>\n",
       "</div>"
      ],
      "text/plain": [
       "          count\n",
       "aa codon       \n",
       "I  ATA      1.0\n",
       "R  AGA      1.0\n",
       "   AGG      1.0"
      ]
     },
     "execution_count": 19,
     "metadata": {},
     "output_type": "execute_result"
    }
   ],
   "source": [
    "cb.stats.CodonCounter(['AGA', 'AGG', 'ATA'], genetic_code=1, ignore_stop=False).get_aa_table().to_frame().query('count > 0')"
   ]
  },
  {
   "cell_type": "code",
   "execution_count": 4,
   "metadata": {},
   "outputs": [],
   "source": [
    "import json\n",
    "import requests"
   ]
  },
  {
   "cell_type": "code",
   "execution_count": 5,
   "metadata": {},
   "outputs": [],
   "source": [
    "def pretty_json(json_object): print(json.dumps(json_object, indent=2))"
   ]
  },
  {
   "cell_type": "code",
   "execution_count": 2,
   "metadata": {},
   "outputs": [],
   "source": [
    "api_key = \"9r50oMX4tBY8ZveScDpdl3EuPKLIjhkW\"\n",
    "api_endpoint = \"https://api.core.ac.uk/v3/\""
   ]
  },
  {
   "cell_type": "code",
   "execution_count": 211,
   "metadata": {},
   "outputs": [],
   "source": [
    "api_key = '779ce21274f7b869c03606bba2996e91'\n",
    "api_endpoint = 'https://api.elsevier.com/content/article/doi/'\n",
    "# api_endpoint = 'https://www.scopus.com/record/display.uri?eid=2-s2.0-84958606331&origin=inward&txGid=b141d8ebe64ecc1247cd468d7d1b0a24'"
   ]
  },
  {
   "cell_type": "code",
   "execution_count": 212,
   "metadata": {},
   "outputs": [],
   "source": [
    "def get_entity(url_fragment):\n",
    "    # headers={\"Authorization\":\"Bearer \"+api_key}\n",
    "    headers = {\"Accept\": \"application/json\",\n",
    "               \"X-ELS-APIKey\": api_key}\n",
    "    response = requests.get(api_endpoint + url_fragment, headers=headers)\n",
    "    if response.status_code == 200:\n",
    "        return response.json(), response.elapsed.total_seconds()\n",
    "    else:\n",
    "        print(f\"Error code {response.status_code}, {response.content}\")"
   ]
  },
  {
   "cell_type": "code",
   "execution_count": 213,
   "metadata": {},
   "outputs": [
    {
     "name": "stdout",
     "output_type": "stream",
     "text": [
      "Error code 404, b'{\"service-error\":{\"status\":{\"statusCode\":\"RESOURCE_NOT_FOUND\",\"statusText\":\"The resource specified cannot be found.\"}}}'\n"
     ]
    },
    {
     "ename": "TypeError",
     "evalue": "'NoneType' object is not subscriptable",
     "output_type": "error",
     "traceback": [
      "\u001b[0;31m---------------------------------------------------------------------------\u001b[0m",
      "\u001b[0;31mTypeError\u001b[0m                                 Traceback (most recent call last)",
      "Cell \u001b[0;32mIn[213], line 2\u001b[0m\n\u001b[1;32m      1\u001b[0m doi \u001b[39m=\u001b[39m \u001b[39m'\u001b[39m\u001b[39m10.1038/nrg.2015.16\u001b[39m\u001b[39m'\u001b[39m\n\u001b[0;32m----> 2\u001b[0m results \u001b[39m=\u001b[39m get_entity(doi)[\u001b[39m0\u001b[39;49m]\n",
      "\u001b[0;31mTypeError\u001b[0m: 'NoneType' object is not subscriptable"
     ]
    }
   ],
   "source": [
    "doi = '10.1038/nrg.2015.16'\n",
    "results = get_entity(doi)[0]"
   ]
  },
  {
   "cell_type": "code",
   "execution_count": 242,
   "metadata": {},
   "outputs": [],
   "source": [
    "res = requests.get(f'https://api.elsevier.com/content/abstract/doi/{doi}',\n",
    "              headers={\"X-ELS-APIKey\": '0741684043fedcf59a04dbd6c26b30c5', \"Accept\": 'application/json'})"
   ]
  },
  {
   "cell_type": "code",
   "execution_count": 249,
   "metadata": {},
   "outputs": [
    {
     "data": {
      "text/plain": [
       "[{'@_fa': 'true',\n",
       "  '@rel': 'self',\n",
       "  '@href': 'https://api.elsevier.com/content/abstract/scopus_id/84958606331'},\n",
       " {'@_fa': 'true',\n",
       "  '@rel': 'scopus',\n",
       "  '@href': 'https://www.scopus.com/inward/record.uri?partnerID=HzOxMe3b&scp=84958606331&origin=inward'},\n",
       " {'@_fa': 'true',\n",
       "  '@rel': 'scopus-citedby',\n",
       "  '@href': 'https://www.scopus.com/inward/citedby.uri?partnerID=HzOxMe3b&scp=84958606331&origin=inward'}]"
      ]
     },
     "execution_count": 249,
     "metadata": {},
     "output_type": "execute_result"
    }
   ],
   "source": [
    "res.json()['abstracts-retrieval-response']['coredata']['link']"
   ]
  },
  {
   "cell_type": "code",
   "execution_count": 206,
   "metadata": {},
   "outputs": [
    {
     "ename": "JSONDecodeError",
     "evalue": "Expecting value: line 1 column 1 (char 0)",
     "output_type": "error",
     "traceback": [
      "\u001b[0;31m---------------------------------------------------------------------------\u001b[0m",
      "\u001b[0;31mJSONDecodeError\u001b[0m                           Traceback (most recent call last)",
      "File \u001b[0;32m/opt/conda/lib/python3.10/site-packages/requests/models.py:971\u001b[0m, in \u001b[0;36mResponse.json\u001b[0;34m(self, **kwargs)\u001b[0m\n\u001b[1;32m    970\u001b[0m \u001b[39mtry\u001b[39;00m:\n\u001b[0;32m--> 971\u001b[0m     \u001b[39mreturn\u001b[39;00m complexjson\u001b[39m.\u001b[39;49mloads(\u001b[39mself\u001b[39;49m\u001b[39m.\u001b[39;49mtext, \u001b[39m*\u001b[39;49m\u001b[39m*\u001b[39;49mkwargs)\n\u001b[1;32m    972\u001b[0m \u001b[39mexcept\u001b[39;00m JSONDecodeError \u001b[39mas\u001b[39;00m e:\n\u001b[1;32m    973\u001b[0m     \u001b[39m# Catch JSON-related errors and raise as requests.JSONDecodeError\u001b[39;00m\n\u001b[1;32m    974\u001b[0m     \u001b[39m# This aliases json.JSONDecodeError and simplejson.JSONDecodeError\u001b[39;00m\n",
      "File \u001b[0;32m/opt/conda/lib/python3.10/json/__init__.py:346\u001b[0m, in \u001b[0;36mloads\u001b[0;34m(s, cls, object_hook, parse_float, parse_int, parse_constant, object_pairs_hook, **kw)\u001b[0m\n\u001b[1;32m    343\u001b[0m \u001b[39mif\u001b[39;00m (\u001b[39mcls\u001b[39m \u001b[39mis\u001b[39;00m \u001b[39mNone\u001b[39;00m \u001b[39mand\u001b[39;00m object_hook \u001b[39mis\u001b[39;00m \u001b[39mNone\u001b[39;00m \u001b[39mand\u001b[39;00m\n\u001b[1;32m    344\u001b[0m         parse_int \u001b[39mis\u001b[39;00m \u001b[39mNone\u001b[39;00m \u001b[39mand\u001b[39;00m parse_float \u001b[39mis\u001b[39;00m \u001b[39mNone\u001b[39;00m \u001b[39mand\u001b[39;00m\n\u001b[1;32m    345\u001b[0m         parse_constant \u001b[39mis\u001b[39;00m \u001b[39mNone\u001b[39;00m \u001b[39mand\u001b[39;00m object_pairs_hook \u001b[39mis\u001b[39;00m \u001b[39mNone\u001b[39;00m \u001b[39mand\u001b[39;00m \u001b[39mnot\u001b[39;00m kw):\n\u001b[0;32m--> 346\u001b[0m     \u001b[39mreturn\u001b[39;00m _default_decoder\u001b[39m.\u001b[39;49mdecode(s)\n\u001b[1;32m    347\u001b[0m \u001b[39mif\u001b[39;00m \u001b[39mcls\u001b[39m \u001b[39mis\u001b[39;00m \u001b[39mNone\u001b[39;00m:\n",
      "File \u001b[0;32m/opt/conda/lib/python3.10/json/decoder.py:337\u001b[0m, in \u001b[0;36mJSONDecoder.decode\u001b[0;34m(self, s, _w)\u001b[0m\n\u001b[1;32m    333\u001b[0m \u001b[39m\u001b[39m\u001b[39m\"\"\"Return the Python representation of ``s`` (a ``str`` instance\u001b[39;00m\n\u001b[1;32m    334\u001b[0m \u001b[39mcontaining a JSON document).\u001b[39;00m\n\u001b[1;32m    335\u001b[0m \n\u001b[1;32m    336\u001b[0m \u001b[39m\"\"\"\u001b[39;00m\n\u001b[0;32m--> 337\u001b[0m obj, end \u001b[39m=\u001b[39m \u001b[39mself\u001b[39;49m\u001b[39m.\u001b[39;49mraw_decode(s, idx\u001b[39m=\u001b[39;49m_w(s, \u001b[39m0\u001b[39;49m)\u001b[39m.\u001b[39;49mend())\n\u001b[1;32m    338\u001b[0m end \u001b[39m=\u001b[39m _w(s, end)\u001b[39m.\u001b[39mend()\n",
      "File \u001b[0;32m/opt/conda/lib/python3.10/json/decoder.py:355\u001b[0m, in \u001b[0;36mJSONDecoder.raw_decode\u001b[0;34m(self, s, idx)\u001b[0m\n\u001b[1;32m    354\u001b[0m \u001b[39mexcept\u001b[39;00m \u001b[39mStopIteration\u001b[39;00m \u001b[39mas\u001b[39;00m err:\n\u001b[0;32m--> 355\u001b[0m     \u001b[39mraise\u001b[39;00m JSONDecodeError(\u001b[39m\"\u001b[39m\u001b[39mExpecting value\u001b[39m\u001b[39m\"\u001b[39m, s, err\u001b[39m.\u001b[39mvalue) \u001b[39mfrom\u001b[39;00m \u001b[39mNone\u001b[39m\n\u001b[1;32m    356\u001b[0m \u001b[39mreturn\u001b[39;00m obj, end\n",
      "\u001b[0;31mJSONDecodeError\u001b[0m: Expecting value: line 1 column 1 (char 0)",
      "\nDuring handling of the above exception, another exception occurred:\n",
      "\u001b[0;31mJSONDecodeError\u001b[0m                           Traceback (most recent call last)",
      "Cell \u001b[0;32mIn[206], line 1\u001b[0m\n\u001b[0;32m----> 1\u001b[0m res\u001b[39m.\u001b[39;49mjson()[\u001b[39m'\u001b[39m\u001b[39mabstracts-retrieval-response\u001b[39m\u001b[39m'\u001b[39m][\u001b[39m'\u001b[39m\u001b[39mcoredata\u001b[39m\u001b[39m'\u001b[39m][\u001b[39m'\u001b[39m\u001b[39mlink\u001b[39m\u001b[39m'\u001b[39m]\n",
      "File \u001b[0;32m/opt/conda/lib/python3.10/site-packages/requests/models.py:975\u001b[0m, in \u001b[0;36mResponse.json\u001b[0;34m(self, **kwargs)\u001b[0m\n\u001b[1;32m    971\u001b[0m     \u001b[39mreturn\u001b[39;00m complexjson\u001b[39m.\u001b[39mloads(\u001b[39mself\u001b[39m\u001b[39m.\u001b[39mtext, \u001b[39m*\u001b[39m\u001b[39m*\u001b[39mkwargs)\n\u001b[1;32m    972\u001b[0m \u001b[39mexcept\u001b[39;00m JSONDecodeError \u001b[39mas\u001b[39;00m e:\n\u001b[1;32m    973\u001b[0m     \u001b[39m# Catch JSON-related errors and raise as requests.JSONDecodeError\u001b[39;00m\n\u001b[1;32m    974\u001b[0m     \u001b[39m# This aliases json.JSONDecodeError and simplejson.JSONDecodeError\u001b[39;00m\n\u001b[0;32m--> 975\u001b[0m     \u001b[39mraise\u001b[39;00m RequestsJSONDecodeError(e\u001b[39m.\u001b[39mmsg, e\u001b[39m.\u001b[39mdoc, e\u001b[39m.\u001b[39mpos)\n",
      "\u001b[0;31mJSONDecodeError\u001b[0m: Expecting value: line 1 column 1 (char 0)"
     ]
    }
   ],
   "source": [
    "res.json()['abstracts-retrieval-response']['coredata']['link']"
   ]
  },
  {
   "cell_type": "code",
   "execution_count": 250,
   "metadata": {},
   "outputs": [
    {
     "name": "stdout",
     "output_type": "stream",
     "text": [
      "<!DOCTYPE html>\n",
      "<html lang=\"en-US\">\n",
      "   <head>\n",
      "      <title>Access denied</title>\n",
      "      <meta http-equiv=\"X-UA-Compatible\" content=\"IE=Edge\" />\n",
      "      <meta name=\"robots\" content=\"noindex, nofollow\" />\n",
      "      <meta name=\"viewport\" content=\"width=device-width,initial-scale=1\" />\n",
      "      <link rel=\"stylesheet\" href=\"/cdn-cgi/styles/errors.css\" media=\"screen\" />\n",
      "      <script>\n",
      "(function(){if(document.addEventListener&&window.XMLHttpRequest&&JSON&&JSON.stringify){var e=function(a){var c=document.getElementById(\"error-feedback-survey\"),d=document.getElementById(\"error-feedback-success\"),b=new XMLHttpRequest;a={event:\"feedback clicked\",properties:{errorCode:1020,helpful:a,version:5}};b.open(\"POST\",\"https://sparrow.cloudflare.com/api/v1/event\");b.setRequestHeader(\"Content-Type\",\"application/json\");b.setRequestHeader(\"Sparrow-Source-Key\",\"c771f0e4b54944bebf4261d44bd79a1e\");\n",
      "b.send(JSON.stringify(a));c.classList.add(\"feedback-hidden\");d.classList.remove(\"feedback-hidden\")};document.addEventListener(\"DOMContentLoaded\",function(){var a=document.getElementById(\"error-feedback\"),c=document.getElementById(\"feedback-button-yes\"),d=document.getElementById(\"feedback-button-no\");\"classList\"in a&&(a.classList.remove(\"feedback-hidden\"),c.addEventListener(\"click\",function(){e(!0)}),d.addEventListener(\"click\",function(){e(!1)}))})}})();\n",
      "</script>\n",
      "\n",
      "      <script>\n",
      "      (function(){function d(c){var b=document.getElementById(\"copy-label\"),a=document.getElementById(\"cf-details-wrapper-expandable\");c.target.checked?a.classList.add(\"expanded\"):(a.classList.remove(\"expanded\"),b.innerText=\"Click to copy\")}if(document.addEventListener){var e=function(){var c=document.getElementById(\"copy-label\");var b=document.getElementById(\"error-details\").textContent;if(navigator.clipboard)navigator.clipboard.writeText(b);else{var a=document.createElement(\"textarea\");a.value=b;a.style.top=\"0\";a.style.left=\"0\";a.style.position=\"fixed\";document.body.appendChild(a);a.focus();a.select();document.execCommand(\"copy\");document.body.removeChild(a)}c.innerText=\"Copied text to clipboard\"};document.addEventListener(\"DOMContentLoaded\",function(){var c=document.getElementById(\"error-details-checkbox\"),b=document.getElementById(\"click-to-copy-btn\");document.getElementById(\"copy-label\").classList.remove(\"hidden\");c.addEventListener(\"change\",d);b.addEventListener(\"click\",e)})}})();\n",
      "      </script>\n",
      "      <script defer src=\"https://performance.radar.cloudflare.com/beacon.js\"></script>\n",
      "   </head>\n",
      "   <body>\n",
      "   <div class=\"cf-main-wrapper\" role=\"main\">\n",
      "      <div class=\"cf-header cf-section\">\n",
      "         <div class=\"cf-error-title\">\n",
      "            <h1>Access denied</h1>\n",
      "            <span class=\"cf-code-label\">Error code <span>1020</span></span>\n",
      "         </div>\n",
      "         <div class=\"cf-error-description\">\n",
      "            <p>You do not have access to www.scopus.com.</p><p>The site owner may have set restrictions that prevent you from accessing the site.</p>\n",
      "         </div>\n",
      "      </div>\n",
      "   </div>\n",
      "\n",
      "   <div class=\"cf-details-wrapper\">\n",
      "      <div class=\"cf-section\" role=\"region\">\n",
      "         <div class=\"cf-expandable\" id=\"cf-details-wrapper-expandable\">\n",
      "            <label for=\"error-details-checkbox\" title=\"Error details\" class=\"cf-expandable-btn\">\n",
      "               <p class=\"cf-dropdown-title\">Error details</p>\n",
      "               <img src=\"data:image/png;base64,iVBORw0KGgoAAAANSUhEUgAAACAAAAAgBAMAAACBVGfHAAAAElBMVEUAAAAwMDAxMTEyMjIwMDAxMTF+89HTAAAABXRSTlMAf2CAMKS61bwAAABTSURBVCjPzcq7DcAgFENR5zMATfo06TNCViAS+6+CeFi6gglw4eLqaPVtaQpXnkApaQT/k0dw70EAUhCA1AnABGACMAGYAEwAkCOAydv+I5xaZhXWbQrD80TkkQAAAABJRU5ErkJggg==\"\n",
      "               class=\"cf-caret-icon\" id=\"caret-icon\" alt=\"Caret icon\" />\n",
      "            </label>\n",
      "\n",
      "            <input id=\"error-details-checkbox\" class=\"hidden\" type=\"checkbox\">\n",
      "\n",
      "            <div class=\"cf-expandable-error-info hidden\">\n",
      "               <p class=\"cf-error-copy-description\">Provide the site owner this information.</p>\n",
      "               <button class=\"cf-click-to-copy-btn\" id=\"click-to-copy-btn\" title=\"Click to copy\" type=\"button\">\n",
      "<div class=\"cf-error-wrapper\" id=\"error-details\"><p class=\"cf-error-details-endpoint\">I got an error when visiting www.scopus.com/inward/record.uri?partnerID=HzOxMe3b&amp;scp=84958606331&amp;origin=inward.</p>\n",
      "\n",
      "<p>Error code: 1020</p>\n",
      "<p>Ray ID: 79c99a676a699295</p>\n",
      "<p>Country: IL</p>\n",
      "<p>Data center: fra06</p>\n",
      "<p>IP: 5.28.145.37</p>\n",
      "<p>Timestamp: 2023-02-20 19:21:03 UTC</p>\n",
      "</div>\n",
      "                  <p class=\"cf-copy-label hidden\" id=\"copy-label\">Click to copy</p>\n",
      "               </button>\n",
      "            </div>\n",
      "         </div>\n",
      "      </div>\n",
      "\n",
      "      <div class=\"clearfix cf-footer cf-section\" role=\"contentinfo\">\n",
      "      <div class=\"cf-column\">\n",
      "           <div class=\"feedback-hidden py-8 text-center\" id=\"error-feedback\">\n",
      "    <div id=\"error-feedback-survey\" class=\"footer-line-wrapper\">\n",
      "        Was this page helpful?\n",
      "        <button class=\"border border-solid bg-white cf-button cursor-pointer ml-4 px-4 py-2 rounded\" id=\"feedback-button-yes\" type=\"button\">Yes</button>\n",
      "        <button class=\"border border-solid bg-white cf-button cursor-pointer ml-4 px-4 py-2 rounded\" id=\"feedback-button-no\" type=\"button\">No</button>\n",
      "    </div>\n",
      "    <div class=\"feedback-success feedback-hidden\" id=\"error-feedback-success\">\n",
      "        Thank you for your feedback!\n",
      "    </div>\n",
      "</div>\n",
      "\n",
      "      </div>\n",
      "         <div class=\"cf-column cf-footer-line-wrapper text-center\">\n",
      "            <p>\n",
      "               Performance &amp; security by <a rel=\"noopener noreferrer\" href=\"https://www.cloudflare.com?utm_source=1020_error\" target=\"_blank\">Cloudflare <img class=\"external-link\" title=\"Opens in new tab\" src=\"/cdn-cgi/images/external.png\" alt=\"External link\"></a>\n",
      "            </p>\n",
      "         </div>\n",
      "      </div>\n",
      "   </div>\n",
      "</body>\n",
      "</html>\n",
      "\n"
     ]
    }
   ],
   "source": [
    "print(requests.get('https://www.scopus.com/inward/record.uri?partnerID=HzOxMe3b&scp=84958606331&origin=inward').text)"
   ]
  },
  {
   "cell_type": "code",
   "execution_count": 172,
   "metadata": {},
   "outputs": [
    {
     "ename": "KeyError",
     "evalue": "'dc:description'",
     "output_type": "error",
     "traceback": [
      "\u001b[0;31m---------------------------------------------------------------------------\u001b[0m",
      "\u001b[0;31mKeyError\u001b[0m                                  Traceback (most recent call last)",
      "Cell \u001b[0;32mIn[172], line 1\u001b[0m\n\u001b[0;32m----> 1\u001b[0m res\u001b[39m.\u001b[39;49mjson()[\u001b[39m'\u001b[39;49m\u001b[39mabstracts-retrieval-response\u001b[39;49m\u001b[39m'\u001b[39;49m][\u001b[39m'\u001b[39;49m\u001b[39mdc:description\u001b[39;49m\u001b[39m'\u001b[39;49m]\n",
      "\u001b[0;31mKeyError\u001b[0m: 'dc:description'"
     ]
    }
   ],
   "source": [
    "res.json()['abstracts-retrieval-response']['co']"
   ]
  },
  {
   "cell_type": "code",
   "execution_count": 147,
   "metadata": {},
   "outputs": [
    {
     "name": "stdout",
     "output_type": "stream",
     "text": [
      "<!DOCTYPE html>\n",
      "<html lang=\"en-US\">\n",
      "   <head>\n",
      "      <title>Access denied</title>\n",
      "      <meta http-equiv=\"X-UA-Compatible\" content=\"IE=Edge\" />\n",
      "      <meta name=\"robots\" content=\"noindex, nofollow\" />\n",
      "      <meta name=\"viewport\" content=\"width=device-width,initial-scale=1\" />\n",
      "      <link rel=\"stylesheet\" href=\"/cdn-cgi/styles/errors.css\" media=\"screen\" />\n",
      "      <script>\n",
      "(function(){if(document.addEventListener&&window.XMLHttpRequest&&JSON&&JSON.stringify){var e=function(a){var c=document.getElementById(\"error-feedback-survey\"),d=document.getElementById(\"error-feedback-success\"),b=new XMLHttpRequest;a={event:\"feedback clicked\",properties:{errorCode:1020,helpful:a,version:5}};b.open(\"POST\",\"https://sparrow.cloudflare.com/api/v1/event\");b.setRequestHeader(\"Content-Type\",\"application/json\");b.setRequestHeader(\"Sparrow-Source-Key\",\"c771f0e4b54944bebf4261d44bd79a1e\");\n",
      "b.send(JSON.stringify(a));c.classList.add(\"feedback-hidden\");d.classList.remove(\"feedback-hidden\")};document.addEventListener(\"DOMContentLoaded\",function(){var a=document.getElementById(\"error-feedback\"),c=document.getElementById(\"feedback-button-yes\"),d=document.getElementById(\"feedback-button-no\");\"classList\"in a&&(a.classList.remove(\"feedback-hidden\"),c.addEventListener(\"click\",function(){e(!0)}),d.addEventListener(\"click\",function(){e(!1)}))})}})();\n",
      "</script>\n",
      "\n",
      "      <script>\n",
      "      (function(){function d(c){var b=document.getElementById(\"copy-label\"),a=document.getElementById(\"cf-details-wrapper-expandable\");c.target.checked?a.classList.add(\"expanded\"):(a.classList.remove(\"expanded\"),b.innerText=\"Click to copy\")}if(document.addEventListener){var e=function(){var c=document.getElementById(\"copy-label\");var b=document.getElementById(\"error-details\").textContent;if(navigator.clipboard)navigator.clipboard.writeText(b);else{var a=document.createElement(\"textarea\");a.value=b;a.style.top=\"0\";a.style.left=\"0\";a.style.position=\"fixed\";document.body.appendChild(a);a.focus();a.select();document.execCommand(\"copy\");document.body.removeChild(a)}c.innerText=\"Copied text to clipboard\"};document.addEventListener(\"DOMContentLoaded\",function(){var c=document.getElementById(\"error-details-checkbox\"),b=document.getElementById(\"click-to-copy-btn\");document.getElementById(\"copy-label\").classList.remove(\"hidden\");c.addEventListener(\"change\",d);b.addEventListener(\"click\",e)})}})();\n",
      "      </script>\n",
      "      <script defer src=\"https://performance.radar.cloudflare.com/beacon.js\"></script>\n",
      "   </head>\n",
      "   <body>\n",
      "   <div class=\"cf-main-wrapper\" role=\"main\">\n",
      "      <div class=\"cf-header cf-section\">\n",
      "         <div class=\"cf-error-title\">\n",
      "            <h1>Access denied</h1>\n",
      "            <span class=\"cf-code-label\">Error code <span>1020</span></span>\n",
      "         </div>\n",
      "         <div class=\"cf-error-description\">\n",
      "            <p>You do not have access to www.scopus.com.</p><p>The site owner may have set restrictions that prevent you from accessing the site.</p>\n",
      "         </div>\n",
      "      </div>\n",
      "   </div>\n",
      "\n",
      "   <div class=\"cf-details-wrapper\">\n",
      "      <div class=\"cf-section\" role=\"region\">\n",
      "         <div class=\"cf-expandable\" id=\"cf-details-wrapper-expandable\">\n",
      "            <label for=\"error-details-checkbox\" title=\"Error details\" class=\"cf-expandable-btn\">\n",
      "               <p class=\"cf-dropdown-title\">Error details</p>\n",
      "               <img src=\"data:image/png;base64,iVBORw0KGgoAAAANSUhEUgAAACAAAAAgBAMAAACBVGfHAAAAElBMVEUAAAAwMDAxMTEyMjIwMDAxMTF+89HTAAAABXRSTlMAf2CAMKS61bwAAABTSURBVCjPzcq7DcAgFENR5zMATfo06TNCViAS+6+CeFi6gglw4eLqaPVtaQpXnkApaQT/k0dw70EAUhCA1AnABGACMAGYAEwAkCOAydv+I5xaZhXWbQrD80TkkQAAAABJRU5ErkJggg==\"\n",
      "               class=\"cf-caret-icon\" id=\"caret-icon\" alt=\"Caret icon\" />\n",
      "            </label>\n",
      "\n",
      "            <input id=\"error-details-checkbox\" class=\"hidden\" type=\"checkbox\">\n",
      "\n",
      "            <div class=\"cf-expandable-error-info hidden\">\n",
      "               <p class=\"cf-error-copy-description\">Provide the site owner this information.</p>\n",
      "               <button class=\"cf-click-to-copy-btn\" id=\"click-to-copy-btn\" title=\"Click to copy\" type=\"button\">\n",
      "<div class=\"cf-error-wrapper\" id=\"error-details\"><p class=\"cf-error-details-endpoint\">I got an error when visiting www.scopus.com/inward/record.uri?partnerID=HzOxMe3b&amp;scp=0037070197&amp;origin=inward.</p>\n",
      "\n",
      "<p>Error code: 1020</p>\n",
      "<p>Ray ID: 79b6dc08aa082c5b</p>\n",
      "<p>Country: IL</p>\n",
      "<p>Data center: fra11</p>\n",
      "<p>IP: 80.246.130.251</p>\n",
      "<p>Timestamp: 2023-02-18 12:45:22 UTC</p>\n",
      "</div>\n",
      "                  <p class=\"cf-copy-label hidden\" id=\"copy-label\">Click to copy</p>\n",
      "               </button>\n",
      "            </div>\n",
      "         </div>\n",
      "      </div>\n",
      "\n",
      "      <div class=\"clearfix cf-footer cf-section\" role=\"contentinfo\">\n",
      "      <div class=\"cf-column\">\n",
      "           <div class=\"feedback-hidden py-8 text-center\" id=\"error-feedback\">\n",
      "    <div id=\"error-feedback-survey\" class=\"footer-line-wrapper\">\n",
      "        Was this page helpful?\n",
      "        <button class=\"border border-solid bg-white cf-button cursor-pointer ml-4 px-4 py-2 rounded\" id=\"feedback-button-yes\" type=\"button\">Yes</button>\n",
      "        <button class=\"border border-solid bg-white cf-button cursor-pointer ml-4 px-4 py-2 rounded\" id=\"feedback-button-no\" type=\"button\">No</button>\n",
      "    </div>\n",
      "    <div class=\"feedback-success feedback-hidden\" id=\"error-feedback-success\">\n",
      "        Thank you for your feedback!\n",
      "    </div>\n",
      "</div>\n",
      "\n",
      "      </div>\n",
      "         <div class=\"cf-column cf-footer-line-wrapper text-center\">\n",
      "            <p>\n",
      "               Performance &amp; security by <a rel=\"noopener noreferrer\" href=\"https://www.cloudflare.com?utm_source=1020_error\" target=\"_blank\">Cloudflare <img class=\"external-link\" title=\"Opens in new tab\" src=\"/cdn-cgi/images/external.png\" alt=\"External link\"></a>\n",
      "            </p>\n",
      "         </div>\n",
      "      </div>\n",
      "   </div>\n",
      "</body>\n",
      "</html>\n",
      "\n"
     ]
    }
   ],
   "source": [
    "print(res.content.decode('utf-8'))"
   ]
  },
  {
   "cell_type": "code",
   "execution_count": 134,
   "metadata": {},
   "outputs": [
    {
     "data": {
      "text/plain": [
       "{'srctype': 'j',\n",
       " 'eid': '2-s2.0-84922673767',\n",
       " 'pubmed-id': '25510862',\n",
       " 'prism:coverDate': '2014-01-01',\n",
       " 'prism:aggregationType': 'Journal',\n",
       " 'prism:url': 'https://api.elsevier.com/content/abstract/scopus_id/84922673767',\n",
       " 'subtypeDescription': 'Article',\n",
       " 'dc:creator': {'author': [{'ce:given-name': 'Alon',\n",
       "    'preferred-name': {'ce:given-name': 'Alon',\n",
       "     'ce:initials': 'A.',\n",
       "     'ce:surname': 'Diament',\n",
       "     'ce:indexed-name': 'Diament A.'},\n",
       "    '@seq': '1',\n",
       "    'ce:initials': 'A.',\n",
       "    '@_fa': 'true',\n",
       "    'affiliation': {'@id': '60005681',\n",
       "     '@href': 'https://api.elsevier.com/content/affiliation/affiliation_id/60005681'},\n",
       "    'ce:surname': 'Diament',\n",
       "    '@auid': '56513643500',\n",
       "    'author-url': 'https://api.elsevier.com/content/author/author_id/56513643500',\n",
       "    'ce:indexed-name': 'Diament A.'}]},\n",
       " 'link': [{'@_fa': 'true',\n",
       "   '@rel': 'self',\n",
       "   '@href': 'https://api.elsevier.com/content/abstract/scopus_id/84922673767'},\n",
       "  {'@_fa': 'true',\n",
       "   '@rel': 'scopus',\n",
       "   '@href': 'https://www.scopus.com/inward/record.uri?partnerID=HzOxMe3b&scp=84922673767&origin=inward'},\n",
       "  {'@_fa': 'true',\n",
       "   '@rel': 'scopus-citedby',\n",
       "   '@href': 'https://www.scopus.com/inward/citedby.uri?partnerID=HzOxMe3b&scp=84922673767&origin=inward'}],\n",
       " 'prism:publicationName': 'Nature Communications',\n",
       " 'source-id': '19700182758',\n",
       " 'pii': 'ncomms6876',\n",
       " 'citedby-count': '19',\n",
       " 'prism:volume': '5',\n",
       " 'subtype': 'ar',\n",
       " 'dc:title': 'Three-dimensional eukaryotic genomic organization is strongly correlated with codon usage expression and function',\n",
       " 'openaccess': '1',\n",
       " 'openaccessFlag': 'true',\n",
       " 'prism:doi': '10.1038/ncomms6876',\n",
       " 'prism:issn': '20411723',\n",
       " 'article-number': '5876',\n",
       " 'dc:identifier': 'SCOPUS_ID:84922673767',\n",
       " 'dc:publisher': 'Nature Publishing GroupHoundmillsBasingstoke, HampshireRG21 6XS'}"
      ]
     },
     "execution_count": 134,
     "metadata": {},
     "output_type": "execute_result"
    }
   ],
   "source": [
    "results['abstracts-retrieval-response']['coredata']"
   ]
  },
  {
   "cell_type": "code",
   "execution_count": 6,
   "metadata": {},
   "outputs": [
    {
     "name": "stdout",
     "output_type": "stream",
     "text": [
      "{\n",
      "  \"id\": 1,\n",
      "  \"openDoarId\": 1767,\n",
      "  \"name\": \"Aberdeen University Research Archive\",\n",
      "  \"email\": \"aura.deposit@abdn.ac.uk\",\n",
      "  \"uri\": null,\n",
      "  \"oaiPmhUrl\": \"https://aura.abdn.ac.uk/dspace-oai/request\",\n",
      "  \"homepageUrl\": \"http://aura.abdn.ac.uk\",\n",
      "  \"source\": null,\n",
      "  \"software\": \"dspace\",\n",
      "  \"metadataFormat\": \"oai_dc\",\n",
      "  \"createdDate\": \"2011-05-05T23:00:00+00:00\",\n",
      "  \"location\": {\n",
      "    \"countryCode\": \"GB\",\n",
      "    \"latitude\": 57.165,\n",
      "    \"longitude\": -2.0991\n",
      "  },\n",
      "  \"logo\": \"https://api.core.ac.uk/data-providers/1/logo\",\n",
      "  \"type\": \"REPOSITORY\",\n",
      "  \"stats\": null\n",
      "}\n"
     ]
    }
   ],
   "source": [
    "data_provider, elapsed = get_entity(\"data-providers/1\")\n",
    "pretty_json(data_provider)"
   ]
  },
  {
   "cell_type": "code",
   "execution_count": 105,
   "metadata": {},
   "outputs": [],
   "source": [
    "def query_api(url_fragment, query,limit=100):\n",
    "    headers={\"Authorization\":\"Bearer \"+api_key}\n",
    "    query = {\"q\":query, \"limit\":limit}\n",
    "    response = requests.post(f\"{api_endpoint}{url_fragment}\",data = json.dumps(query), headers=headers)\n",
    "    if response.status_code ==200:\n",
    "        return response.json(), response.elapsed.total_seconds()\n",
    "    else:\n",
    "        print(f\"Error code {response.status_code}, {response.content}\")"
   ]
  },
  {
   "cell_type": "code",
   "execution_count": 103,
   "metadata": {},
   "outputs": [],
   "source": [
    "results , elapsed = query_api(\"search/works\", \"author:Diament\")"
   ]
  },
  {
   "cell_type": "code",
   "execution_count": 87,
   "metadata": {},
   "outputs": [
    {
     "data": {
      "text/plain": [
       "['oaiIds',\n",
       " 'publishedDate',\n",
       " 'publisher',\n",
       " 'pubmedId',\n",
       " 'references',\n",
       " 'sourceFulltextUrls',\n",
       " 'updatedDate',\n",
       " 'yearPublished',\n",
       " 'journals',\n",
       " 'links']"
      ]
     },
     "execution_count": 87,
     "metadata": {},
     "output_type": "execute_result"
    }
   ],
   "source": [
    "list(results['results'][0])[20:30]"
   ]
  },
  {
   "cell_type": "code",
   "execution_count": 104,
   "metadata": {},
   "outputs": [
    {
     "data": {
      "text/plain": [
       "[]"
      ]
     },
     "execution_count": 104,
     "metadata": {},
     "output_type": "execute_result"
    }
   ],
   "source": [
    "[r for r in results['results'] if r['citationCount'] is not None]"
   ]
  },
  {
   "cell_type": "code",
   "execution_count": null,
   "metadata": {},
   "outputs": [],
   "source": []
  }
 ],
 "metadata": {
  "kernelspec": {
   "display_name": "base",
   "language": "python",
   "name": "python3"
  },
  "language_info": {
   "codemirror_mode": {
    "name": "ipython",
    "version": 3
   },
   "file_extension": ".py",
   "mimetype": "text/x-python",
   "name": "python",
   "nbconvert_exporter": "python",
   "pygments_lexer": "ipython3",
   "version": "3.10.8"
  },
  "orig_nbformat": 4,
  "vscode": {
   "interpreter": {
    "hash": "d4d1e4263499bec80672ea0156c357c1ee493ec2b1c70f0acce89fc37c4a6abe"
   }
  }
 },
 "nbformat": 4,
 "nbformat_minor": 2
}
